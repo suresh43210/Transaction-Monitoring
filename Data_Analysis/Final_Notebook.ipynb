{
  "cells": [
    {
      "cell_type": "markdown",
      "metadata": {
        "id": "UddIbzegNBwP"
      },
      "source": [
        "# DATA PREPROCESSING"
      ]
    },
    {
      "cell_type": "code",
      "execution_count": 1,
      "metadata": {
        "id": "MS6kFiZklkoc"
      },
      "outputs": [],
      "source": [
        "import pandas as pd\n",
        "import numpy as np\n",
        "from sklearn import metrics\n",
        "from sklearn.metrics import accuracy_score, f1_score\n",
        "from sklearn.metrics import f1_score,confusion_matrix\n",
        "from sklearn.model_selection import train_test_split\n",
        "from sklearn import ensemble, tree, linear_model\n",
        "from sklearn.utils import shuffle\n",
        "from sklearn.preprocessing import OneHotEncoder "
      ]
    },
    {
      "cell_type": "code",
      "execution_count": null,
      "metadata": {
        "id": "hpPBvoYWmpL2"
      },
      "outputs": [],
      "source": [
        "df = pd.read_csv('/content/Book1.csv')\n",
        "df = df.drop(['isFlaggedFraud','step','nameOrig','nameDest'],axis = 1)\n",
        "df = shuffle(df)\n",
        "df.to_csv('uodated_data.csv')"
      ]
    },
    {
      "cell_type": "code",
      "execution_count": null,
      "metadata": {
        "id": "tc00P6snr0wd"
      },
      "outputs": [],
      "source": [
        "df=pd.get_dummies(df)\n",
        "y = df.loc[:,'isFraud']\n",
        "X = df.drop(['isFraud'],axis =1)\n",
        "X_train,X_test,y_train,y_test=train_test_split(X,y,train_size=0.75,random_state=1231)"
      ]
    },
    {
      "cell_type": "markdown",
      "metadata": {
        "id": "52lRCtWXNbDM"
      },
      "source": [
        "# MODEL TRAINING"
      ]
    },
    {
      "cell_type": "code",
      "execution_count": null,
      "metadata": {
        "id": "BDJ09QkHsKeg"
      },
      "outputs": [],
      "source": [
        "def generate_accuracy(model, x, y):\n",
        "    ac = accuracy_score(y,model.predict(x))\n",
        "    f_score = f1_score(y,model.predict(x))\n",
        "    print('Accuracy is: ', ac)\n",
        "    print('F1 score is: ', f_score)"
      ]
    },
    {
      "cell_type": "code",
      "execution_count": null,
      "metadata": {
        "colab": {
          "base_uri": "https://localhost:8080/",
          "height": 153
        },
        "id": "1YRNIxJmsPNI",
        "outputId": "aa9dd285-9590-431c-a758-75a380bce500"
      },
      "outputs": [
        {
          "data": {
            "text/plain": [
              "RandomForestClassifier(bootstrap=True, ccp_alpha=0.0, class_weight=None,\n",
              "                       criterion='gini', max_depth=None, max_features='auto',\n",
              "                       max_leaf_nodes=None, max_samples=None,\n",
              "                       min_impurity_decrease=0.0, min_impurity_split=None,\n",
              "                       min_samples_leaf=1, min_samples_split=2,\n",
              "                       min_weight_fraction_leaf=0.0, n_estimators=50,\n",
              "                       n_jobs=None, oob_score=False, random_state=None,\n",
              "                       verbose=0, warm_start=False)"
            ]
          },
          "execution_count": 5,
          "metadata": {
            "tags": []
          },
          "output_type": "execute_result"
        }
      ],
      "source": [
        "from sklearn.ensemble import RandomForestClassifier\n",
        "classifier = RandomForestClassifier(n_estimators = 50)\n",
        "classifier.fit(X_train, y_train)\n",
        "#y_pred = classifier.predict(X_test)\n",
        "#generate_accuracy(classifier, X_test, y_test)"
      ]
    },
    {
      "cell_type": "code",
      "execution_count": null,
      "metadata": {
        "id": "1uxI_neBsXMk"
      },
      "outputs": [],
      "source": [
        "#confusion_matrix = pd.crosstab(y_test, y_pred, rownames=['Actual'], colnames=['Predicted'])\n",
        "#confusion_matrix"
      ]
    },
    {
      "cell_type": "markdown",
      "metadata": {
        "id": "WJp-drzCNevO"
      },
      "source": [
        "# TESTING\n",
        "\n",
        "1. Upload the dummy data from local system.\n",
        "2. Preprocess the data.\n",
        "3. Pass the data to model for predictions.\n",
        "4. Save the predictions in the dataframe as column named **Predict**.\n",
        "5. Covert dataframe to csv."
      ]
    },
    {
      "cell_type": "code",
      "execution_count": null,
      "metadata": {
        "colab": {
          "base_uri": "https://localhost:8080/",
          "height": 109,
          "resources": {
            "http://localhost:8080/nbextensions/google.colab/files.js": {
              "data": "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",
              "headers": [
                [
                  "content-type",
                  "application/javascript"
                ]
              ],
              "ok": true,
              "status": 200,
              "status_text": ""
            }
          }
        },
        "id": "zXcgl7uWt2sa",
        "outputId": "e069816c-7480-4711-e152-fbfcebf320fb"
      },
      "outputs": [
        {
          "data": {
            "text/html": [
              "\n",
              "     <input type=\"file\" id=\"files-00f499d3-8f1f-4c8e-9711-3960e91c0074\" name=\"files[]\" multiple disabled\n",
              "        style=\"border:none\" />\n",
              "     <output id=\"result-00f499d3-8f1f-4c8e-9711-3960e91c0074\">\n",
              "      Upload widget is only available when the cell has been executed in the\n",
              "      current browser session. Please rerun this cell to enable.\n",
              "      </output>\n",
              "      <script src=\"/nbextensions/google.colab/files.js\"></script> "
            ],
            "text/plain": [
              "<IPython.core.display.HTML object>"
            ]
          },
          "metadata": {
            "tags": []
          },
          "output_type": "display_data"
        },
        {
          "name": "stdout",
          "output_type": "stream",
          "text": [
            "Saving Dummy_Data.csv to Dummy_Data.csv\n"
          ]
        },
        {
          "data": {
            "text/plain": [
              "{'Dummy_Data.csv': b'step,type,amount,nameOrig,oldbalanceOrg,newbalanceOrig,nameDest,oldbalanceDest,newbalanceDest\\n1,CASH_OUT,229133.94,C905080434,15325,0,C476402209,5083,51513.44\\n1,TRANSFER,311685.89,C1984094095,10835,0,C932583850,6267,2719172.89\\n1,PAYMENT,7413.54,C1470868839,297689.58,290276.03,M1426725223,0,0\\n1,PAYMENT,6660.33,C893523498,17710,11049.67,M1770070706,0,0\\n1,TRANSFER,26923.42,C1108517064,11049.67,0,C1983747920,199404.91,95508.95\\n1,TRANSFER,53783.57,C511354923,0,0,C1899073220,75514,420946.86\\n1,TRANSFER,80333.28,C992743048,0,0,C1749186397,321592.98,277515.05\\n1,TRANSFER,211075.91,C1540894701,0,0,C564160838,930082.81,1254956.07\\n1,TRANSFER,100677.86,C203149502,0,0,C1531333864,701567.56,55974.56\\n1,TRANSFER,473499.51,C1198197478,0,0,C453211571,883248.39,3461666.05\\n1,TRANSFER,1538200.39,C476579021,0,0,C1590550415,6977445.38,19200000\\n1,TRANSFER,2421578.09,C106297322,0,0,C1590550415,8515645.77,19200000\\n1,TRANSFER,1349670.68,C1419332030,0,0,C665576141,1538085.96,5515763.34\\n1,TRANSFER,314403.14,C1262110193,0,0,C1789550256,888232.25,4619798.56\\n1,TRANSFER,1457213.54,C396918327,0,0,C1590550415,10900000,19200000\\n1,TRANSFER,180368.84,C1055601039,0,0,C1359044626,1437353.34,16518.36\\n1,TRANSFER,445038.71,C547441493,0,0,C1531333864,802245.42,55974.56\\n1,TRANSFER,1123206.66,C967677821,0,0,C451111351,1773963.18,3940085.21\\n1,DEBIT,996,C1839206329,46132,45136,C998351292,88106.55,1015132.48\\n1,TRANSFER,176334.26,C169880779,45136,0,C1286084959,1251626.46,2107778.11\\n1,TRANSFER,161217.61,C552674617,0,0,C909295153,199733,5602234.95\\n1,TRANSFER,108443.61,C1974622245,0,0,C240650537,246974.3,0\\n1,TRANSFER,75442.68,C402808045,0,0,C1318822808,80469,500631.71\\n1,TRANSFER,55536.86,C332365138,0,0,C392292416,915902.37,3420103.09\\n1,TRANSFER,438437.09,C977160959,0,0,C248609774,740675.45,6453430.91\\n1,TRANSFER,928722.69,C1563053805,0,0,C985934102,1259119.8,971418.91\\n1,TRANSFER,1478772.04,C1464177809,0,0,C1170794006,1652668.12,22190.99\\n1,TRANSFER,2545478.01,C1057507014,0,0,C1590550415,12400000,19200000\\n1,TRANSFER,2061082.82,C2007599722,0,0,C1590550415,14900000,19200000\\n1,TRANSFER,983479.66,C2029780820,0,0,C1170794006,3131440.16,22190.99\\n1,TRANSFER,635507.97,C65080774,0,0,C747464370,834457.23,1567434.81\\n1,TRANSFER,848231.57,C2116179210,0,0,C1170794006,4114919.82,22190.99\\n1,TRANSFER,739112.93,C1172535934,0,0,C564160838,1141158.73,1254956.07\\n1,TRANSFER,324397.94,C1648700617,0,0,C932583850,373058.79,2719172.89\\n1,TRANSFER,982862.81,C1765900922,0,0,C985934102,2187842.49,971418.91\\n1,TRANSFER,955855,C94830685,0,0,C248609774,1179112.54,6453430.91\\n1,TRANSFER,179253.24,C1539947037,0,0,C1870252780,179614.1,46462.23\\n1,PAYMENT,5446.88,C270661321,666,0,M1964434661,0,0\\n1,PAYMENT,648.64,C1217312754,873,224.36,M1585571244,0,0\\n1,PAYMENT,8494.71,C1099552523,11129,2634.29,M66724371,0,0\\n1,CASH_OUT,373068.26,C1047934137,20034,0,C1286084959,1427960.73,2107778.11\\n1,CASH_IN,143236.26,C1862994526,0,143236.26,C1688019098,608932.17,97263.78\\n1,CASH_IN,228451.89,C1614133563,143236.26,371688.15,C2083562754,719678.38,1186556.81\\n1,CASH_IN,35902.49,C839771540,371688.15,407590.65,C2001112025,49003.3,0\\n1,CASH_IN,232953.64,C1037163664,407590.65,640544.28,C33524623,1172672.27,1517262.16\\n1,CASH_IN,65912.95,C180316302,640544.28,706457.23,C1330106945,104198.26,24044.18\\n1,CASH_IN,193492.68,C1200546947,706457.23,899949.91,C1531333864,1247284.13,55974.56\\n1,CASH_IN,60836.64,C443713699,899949.91,960786.56,C488044861,143436,5203.54\\n1,CASH_IN,62325.15,C695530017,960786.56,1023111.71,C564160838,1880271.66,1254956.07\\n1,CASH_IN,349640.51,C1493042329,1023111.71,1372752.22,C909295153,360950.61,5602234.95\\n1,CASH_IN,135324.19,C1751403001,1372752.22,1508076.41,C453211571,1356747.89,3461666.05\\n1,CASH_IN,380015.14,C1717433286,1508076.41,1888091.55,C401424608,1336470.16,1178808.14\\n1,CASH_IN,418688.27,C1756819670,1888091.55,2306779.82,C401424608,956455.03,1178808.14\\n1,CASH_IN,311023.52,C1078262677,2306779.82,2617803.34,C766572210,1477776.96,0\\n1,CASH_IN,151862.38,C178604517,2617803.34,2769665.72,C920011586,158858.48,0\\n1,CASH_IN,228710.05,C57624756,2769665.72,2998375.78,C1297685781,743792.14,16997.22\\n1,CASH_IN,220431.09,C1543518287,2998375.78,3218806.87,C451111351,2897169.84,3940085.21\\n1,CASH_IN,182861.45,C998242313,3218806.87,3401668.32,C485041780,192776.92,0\\n1,CASH_IN,231881.5,C464872674,3401668.32,3633549.82,C1509514333,894141.72,2415.16\\n1,CASH_IN,38071.17,C1659286984,3633549.82,3671620.98,C601893033,122487,54985.05\\n1,CASH_IN,87117.29,C1064905627,3671620.98,3758738.27,C75457651,501093.89,31469.78\\n1,CASH_IN,114271.72,C2072130509,3758738.27,3873009.99,C985934102,3170705.3,971418.91\\n1,CASH_IN,73199.1,C1260440107,3873009.99,3946209.08,C1749186397,401926.25,277515.05\\n1,CASH_IN,764772.98,C482307698,3946209.08,4710982.07,C985934102,3056433.58,971418.91\\n1,CASH_IN,106847.36,C1793899405,4710982.07,4817829.42,C575335780,335711.51,52415.15\\n2,TRANSFER,303473.14,C900824070,798,0,C790722099,0,303473.14\\n2,DEBIT,3949.99,C800218956,5533,1583.01,C1668376627,209201.42,195932.4\\n2,PAYMENT,740.95,C1739806152,782,41.05,M948315053,0,0\\n2,PAYMENT,8416.21,C107632469,56060.58,47644.38,M1998224723,0,0\\n2,TRANSFER,414959.03,C2010426450,0,0,C1916720513,6375632.67,6235766.54\\n2,TRANSFER,317831.06,C703824017,0,0,C1789550256,3964356.31,2943614.6\\n2,TRANSFER,548202.26,C371054890,0,0,C453211571,3726770.23,3809570.13\\n2,TRANSFER,180173.39,C2009317431,0,0,C2134357721,280908.87,182906.2\\n2,TRANSFER,243853.63,C623330465,0,0,C2083562754,1807948.63,2051802.27\\n2,TRANSFER,1339661.93,C283492252,0,0,C1899073220,3043311.43,3208966.39\\n2,TRANSFER,744654.21,C1758060579,0,0,C665576141,6942242.08,6818933.6\\n2,PAYMENT,10039.29,C23218037,1595,0,M511646132,0,0\\n2,PAYMENT,537.8,C593185976,110016,109478.2,M70543368,0,0\\n2,DEBIT,3925.8,C402578964,22062,18136.2,C173783788,539688.48,549946.93\\n2,CASH_OUT,158934.62,C1898629094,18136.2,0,C187649742,168294.74,327229.36\\n2,DEBIT,482.58,C141388791,439,0,C716157500,4894.45,5377.03\\n2,TRANSFER,107159.07,C800990938,6476,0,C1877453512,0,107159.07\\n2,TRANSFER,1096187.24,C1093223281,1096187.24,0,C2063275841,0,0\\n2,CASH_OUT,1096187.24,C77163673,1096187.24,0,C644345897,0,1096187.24\\n6,TRANSFER,495294.14,C651676429,0,0,C2083562754,2808555.73,5312631.16\\n6,TRANSFER,1095802.84,C602529144,0,0,C1636786811,5607296.22,6703099.06\\n6,TRANSFER,1408829.48,C1191985705,0,0,C1360767589,2240534.89,5188539.32\\n6,TRANSFER,704242.78,C104893413,0,0,C451111351,3375453.14,4654237.15\\n6,TRANSFER,2025330.83,C509065091,0,0,C214774813,13000000,15900000\\n6,TRANSFER,1488547.68,C1941482284,0,0,C1446521801,5037279,6525826.68\\n6,TRANSFER,13704,C1735554279,13704,0,C12793273,0,1658746.09\\n6,TRANSFER,312895.63,C1724067349,40171,0,C1651945012,0,1556799.98\\n6,CASH_OUT,13704,C1421965867,13704,0,C1438594533,3382.84,143675.35\\n7,CASH_IN,367834.87,C1023460014,902685.56,1270520.43,C1609562230,4883037.95,4515203.08\\n7,CASH_IN,287937.99,C1716876539,1270520.43,1558458.42,C1423992712,9977117.37,9689179.38\\n7,CASH_IN,37360,C1052245880,1558458.42,1595818.41,C790722099,88544.15,51184.15\\n7,CASH_OUT,269206.3,C1526476924,0,0,C1065997164,974210.2,2826797.81\\n7,CASH_OUT,164,C1173659886,164,0,C1769947269,4068,0\\n7,TRANSFER,164,C1455969984,164,0,C2119910556,0,0\\n'}"
            ]
          },
          "execution_count": 7,
          "metadata": {
            "tags": []
          },
          "output_type": "execute_result"
        }
      ],
      "source": [
        "from google.colab import files\n",
        "files.upload()"
      ]
    },
    {
      "cell_type": "code",
      "execution_count": 5,
      "metadata": {
        "id": "8znLhIHIuMGW"
      },
      "outputs": [
        {
          "data": {
            "application/vnd.microsoft.datawrangler.viewer.v0+json": {
              "columns": [
                {
                  "name": "index",
                  "rawType": "int64",
                  "type": "integer"
                },
                {
                  "name": "Unnamed: 0",
                  "rawType": "int64",
                  "type": "integer"
                },
                {
                  "name": "step",
                  "rawType": "int64",
                  "type": "integer"
                },
                {
                  "name": "type",
                  "rawType": "object",
                  "type": "string"
                },
                {
                  "name": "amount",
                  "rawType": "float64",
                  "type": "float"
                },
                {
                  "name": "nameOrig",
                  "rawType": "object",
                  "type": "string"
                },
                {
                  "name": "oldbalanceOrg",
                  "rawType": "float64",
                  "type": "float"
                },
                {
                  "name": "newbalanceOrig",
                  "rawType": "float64",
                  "type": "float"
                },
                {
                  "name": "nameDest",
                  "rawType": "object",
                  "type": "string"
                },
                {
                  "name": "oldbalanceDest",
                  "rawType": "float64",
                  "type": "float"
                },
                {
                  "name": "newbalanceDest",
                  "rawType": "float64",
                  "type": "float"
                },
                {
                  "name": "y_prednew",
                  "rawType": "int64",
                  "type": "integer"
                }
              ],
              "conversionMethod": "pd.DataFrame",
              "ref": "488d5b12-7fa7-406e-bf8a-7232509855fe",
              "rows": [
                [
                  "0",
                  "0",
                  "1",
                  "CASH_OUT",
                  "229133.94",
                  "C905080434",
                  "15325.0",
                  "0.0",
                  "C476402209",
                  "5083.0",
                  "51513.44",
                  "0"
                ],
                [
                  "1",
                  "1",
                  "1",
                  "TRANSFER",
                  "311685.89",
                  "C1984094095",
                  "10835.0",
                  "0.0",
                  "C932583850",
                  "6267.0",
                  "2719172.89",
                  "0"
                ],
                [
                  "2",
                  "2",
                  "1",
                  "PAYMENT",
                  "7413.54",
                  "C1470868839",
                  "297689.58",
                  "290276.03",
                  "M1426725223",
                  "0.0",
                  "0.0",
                  "0"
                ],
                [
                  "3",
                  "3",
                  "1",
                  "PAYMENT",
                  "6660.33",
                  "C893523498",
                  "17710.0",
                  "11049.67",
                  "M1770070706",
                  "0.0",
                  "0.0",
                  "0"
                ],
                [
                  "4",
                  "4",
                  "1",
                  "TRANSFER",
                  "26923.42",
                  "C1108517064",
                  "11049.67",
                  "0.0",
                  "C1983747920",
                  "199404.91",
                  "95508.95",
                  "0"
                ]
              ],
              "shape": {
                "columns": 11,
                "rows": 5
              }
            },
            "text/html": [
              "<div>\n",
              "<style scoped>\n",
              "    .dataframe tbody tr th:only-of-type {\n",
              "        vertical-align: middle;\n",
              "    }\n",
              "\n",
              "    .dataframe tbody tr th {\n",
              "        vertical-align: top;\n",
              "    }\n",
              "\n",
              "    .dataframe thead th {\n",
              "        text-align: right;\n",
              "    }\n",
              "</style>\n",
              "<table border=\"1\" class=\"dataframe\">\n",
              "  <thead>\n",
              "    <tr style=\"text-align: right;\">\n",
              "      <th></th>\n",
              "      <th>Unnamed: 0</th>\n",
              "      <th>step</th>\n",
              "      <th>type</th>\n",
              "      <th>amount</th>\n",
              "      <th>nameOrig</th>\n",
              "      <th>oldbalanceOrg</th>\n",
              "      <th>newbalanceOrig</th>\n",
              "      <th>nameDest</th>\n",
              "      <th>oldbalanceDest</th>\n",
              "      <th>newbalanceDest</th>\n",
              "      <th>y_prednew</th>\n",
              "    </tr>\n",
              "  </thead>\n",
              "  <tbody>\n",
              "    <tr>\n",
              "      <th>0</th>\n",
              "      <td>0</td>\n",
              "      <td>1</td>\n",
              "      <td>CASH_OUT</td>\n",
              "      <td>229133.94</td>\n",
              "      <td>C905080434</td>\n",
              "      <td>15325.00</td>\n",
              "      <td>0.00</td>\n",
              "      <td>C476402209</td>\n",
              "      <td>5083.00</td>\n",
              "      <td>51513.44</td>\n",
              "      <td>0</td>\n",
              "    </tr>\n",
              "    <tr>\n",
              "      <th>1</th>\n",
              "      <td>1</td>\n",
              "      <td>1</td>\n",
              "      <td>TRANSFER</td>\n",
              "      <td>311685.89</td>\n",
              "      <td>C1984094095</td>\n",
              "      <td>10835.00</td>\n",
              "      <td>0.00</td>\n",
              "      <td>C932583850</td>\n",
              "      <td>6267.00</td>\n",
              "      <td>2719172.89</td>\n",
              "      <td>0</td>\n",
              "    </tr>\n",
              "    <tr>\n",
              "      <th>2</th>\n",
              "      <td>2</td>\n",
              "      <td>1</td>\n",
              "      <td>PAYMENT</td>\n",
              "      <td>7413.54</td>\n",
              "      <td>C1470868839</td>\n",
              "      <td>297689.58</td>\n",
              "      <td>290276.03</td>\n",
              "      <td>M1426725223</td>\n",
              "      <td>0.00</td>\n",
              "      <td>0.00</td>\n",
              "      <td>0</td>\n",
              "    </tr>\n",
              "    <tr>\n",
              "      <th>3</th>\n",
              "      <td>3</td>\n",
              "      <td>1</td>\n",
              "      <td>PAYMENT</td>\n",
              "      <td>6660.33</td>\n",
              "      <td>C893523498</td>\n",
              "      <td>17710.00</td>\n",
              "      <td>11049.67</td>\n",
              "      <td>M1770070706</td>\n",
              "      <td>0.00</td>\n",
              "      <td>0.00</td>\n",
              "      <td>0</td>\n",
              "    </tr>\n",
              "    <tr>\n",
              "      <th>4</th>\n",
              "      <td>4</td>\n",
              "      <td>1</td>\n",
              "      <td>TRANSFER</td>\n",
              "      <td>26923.42</td>\n",
              "      <td>C1108517064</td>\n",
              "      <td>11049.67</td>\n",
              "      <td>0.00</td>\n",
              "      <td>C1983747920</td>\n",
              "      <td>199404.91</td>\n",
              "      <td>95508.95</td>\n",
              "      <td>0</td>\n",
              "    </tr>\n",
              "  </tbody>\n",
              "</table>\n",
              "</div>"
            ],
            "text/plain": [
              "   Unnamed: 0  step      type     amount     nameOrig  oldbalanceOrg  \\\n",
              "0           0     1  CASH_OUT  229133.94   C905080434       15325.00   \n",
              "1           1     1  TRANSFER  311685.89  C1984094095       10835.00   \n",
              "2           2     1   PAYMENT    7413.54  C1470868839      297689.58   \n",
              "3           3     1   PAYMENT    6660.33   C893523498       17710.00   \n",
              "4           4     1  TRANSFER   26923.42  C1108517064       11049.67   \n",
              "\n",
              "   newbalanceOrig     nameDest  oldbalanceDest  newbalanceDest  y_prednew  \n",
              "0            0.00   C476402209         5083.00        51513.44          0  \n",
              "1            0.00   C932583850         6267.00      2719172.89          0  \n",
              "2       290276.03  M1426725223            0.00            0.00          0  \n",
              "3        11049.67  M1770070706            0.00            0.00          0  \n",
              "4            0.00  C1983747920       199404.91        95508.95          0  "
            ]
          },
          "execution_count": 5,
          "metadata": {},
          "output_type": "execute_result"
        }
      ],
      "source": [
        "dataFrame = pd.read_csv('/Users/sureshneupane/Documents/suresh/data-analysis/Transaction-Monitoring/dummy_data.csv')\n",
        "dataFrame.head()"
      ]
    },
    {
      "cell_type": "code",
      "execution_count": 7,
      "metadata": {},
      "outputs": [
        {
          "data": {
            "text/plain": [
              "<bound method NDFrame.describe of     Unnamed: 0  step      type     amount     nameOrig  oldbalanceOrg  \\\n",
              "0            0     1  CASH_OUT  229133.94   C905080434       15325.00   \n",
              "1            1     1  TRANSFER  311685.89  C1984094095       10835.00   \n",
              "2            2     1   PAYMENT    7413.54  C1470868839      297689.58   \n",
              "3            3     1   PAYMENT    6660.33   C893523498       17710.00   \n",
              "4            4     1  TRANSFER   26923.42  C1108517064       11049.67   \n",
              "..         ...   ...       ...        ...          ...            ...   \n",
              "94          94     7   CASH_IN  287937.99  C1716876539     1270520.43   \n",
              "95          95     7   CASH_IN   37360.00  C1052245880     1558458.42   \n",
              "96          96     7  CASH_OUT  269206.30  C1526476924           0.00   \n",
              "97          97     7  CASH_OUT     164.00  C1173659886         164.00   \n",
              "98          98     7  TRANSFER     164.00  C1455969984         164.00   \n",
              "\n",
              "    newbalanceOrig     nameDest  oldbalanceDest  newbalanceDest  y_prednew  \n",
              "0             0.00   C476402209         5083.00        51513.44          0  \n",
              "1             0.00   C932583850         6267.00      2719172.89          0  \n",
              "2        290276.03  M1426725223            0.00            0.00          0  \n",
              "3         11049.67  M1770070706            0.00            0.00          0  \n",
              "4             0.00  C1983747920       199404.91        95508.95          0  \n",
              "..             ...          ...             ...             ...        ...  \n",
              "94      1558458.42  C1423992712      9977117.37      9689179.38          0  \n",
              "95      1595818.41   C790722099        88544.15        51184.15          0  \n",
              "96            0.00  C1065997164       974210.20      2826797.81          0  \n",
              "97            0.00  C1769947269         4068.00            0.00          1  \n",
              "98            0.00  C2119910556            0.00            0.00          1  \n",
              "\n",
              "[99 rows x 11 columns]>"
            ]
          },
          "execution_count": 7,
          "metadata": {},
          "output_type": "execute_result"
        }
      ],
      "source": [
        "dataFrame.describe"
      ]
    },
    {
      "cell_type": "code",
      "execution_count": 8,
      "metadata": {
        "id": "ucyGYRKNsqGF"
      },
      "outputs": [],
      "source": [
        "def preprocessData(dataFrame):\n",
        "  #dataFrame = dataFrame.drop('step','nameOrig','nameDest'],axis = 1)\n",
        "  dataFrame = dataFrame.drop(['step','nameOrig','nameDest'],axis=1)\n",
        "  x_new = dataFrame\n",
        "  x_new = pd.get_dummies(x_new)\n",
        "  \n",
        "  return x_new"
      ]
    },
    {
      "cell_type": "code",
      "execution_count": 9,
      "metadata": {
        "id": "zYvapA8Sv0X1"
      },
      "outputs": [
        {
          "ename": "NameError",
          "evalue": "name 'classifier' is not defined",
          "output_type": "error",
          "traceback": [
            "\u001b[0;31m---------------------------------------------------------------------------\u001b[0m",
            "\u001b[0;31mNameError\u001b[0m                                 Traceback (most recent call last)",
            "Cell \u001b[0;32mIn[9], line 2\u001b[0m\n\u001b[1;32m      1\u001b[0m x_new \u001b[38;5;241m=\u001b[39m preprocessData(dataFrame)\n\u001b[0;32m----> 2\u001b[0m dataFrame[\u001b[38;5;124m'\u001b[39m\u001b[38;5;124my_prednew\u001b[39m\u001b[38;5;124m'\u001b[39m] \u001b[38;5;241m=\u001b[39m \u001b[43mclassifier\u001b[49m\u001b[38;5;241m.\u001b[39mpredict(x_new)\n\u001b[1;32m      3\u001b[0m \u001b[38;5;66;03m#dataFrame\u001b[39;00m\n",
            "\u001b[0;31mNameError\u001b[0m: name 'classifier' is not defined"
          ]
        }
      ],
      "source": [
        "x_new = preprocessData(dataFrame)\n",
        "dataFrame['y_prednew'] = classifier.predict(x_new)\n",
        "#dataFrame"
      ]
    },
    {
      "cell_type": "code",
      "execution_count": null,
      "metadata": {
        "colab": {
          "base_uri": "https://localhost:8080/",
          "height": 419
        },
        "id": "YDm4064zOKvy",
        "outputId": "dd41fc79-db06-4d7a-cd50-25fcca4cb6a8"
      },
      "outputs": [
        {
          "data": {
            "text/html": [
              "<div>\n",
              "<style scoped>\n",
              "    .dataframe tbody tr th:only-of-type {\n",
              "        vertical-align: middle;\n",
              "    }\n",
              "\n",
              "    .dataframe tbody tr th {\n",
              "        vertical-align: top;\n",
              "    }\n",
              "\n",
              "    .dataframe thead th {\n",
              "        text-align: right;\n",
              "    }\n",
              "</style>\n",
              "<table border=\"1\" class=\"dataframe\">\n",
              "  <thead>\n",
              "    <tr style=\"text-align: right;\">\n",
              "      <th></th>\n",
              "      <th>step</th>\n",
              "      <th>type</th>\n",
              "      <th>amount</th>\n",
              "      <th>nameOrig</th>\n",
              "      <th>oldbalanceOrg</th>\n",
              "      <th>newbalanceOrig</th>\n",
              "      <th>nameDest</th>\n",
              "      <th>oldbalanceDest</th>\n",
              "      <th>newbalanceDest</th>\n",
              "      <th>y_prednew</th>\n",
              "    </tr>\n",
              "  </thead>\n",
              "  <tbody>\n",
              "    <tr>\n",
              "      <th>0</th>\n",
              "      <td>1</td>\n",
              "      <td>CASH_OUT</td>\n",
              "      <td>229133.94</td>\n",
              "      <td>C905080434</td>\n",
              "      <td>15325.00</td>\n",
              "      <td>0.00</td>\n",
              "      <td>C476402209</td>\n",
              "      <td>5083.00</td>\n",
              "      <td>51513.44</td>\n",
              "      <td>0</td>\n",
              "    </tr>\n",
              "    <tr>\n",
              "      <th>1</th>\n",
              "      <td>1</td>\n",
              "      <td>TRANSFER</td>\n",
              "      <td>311685.89</td>\n",
              "      <td>C1984094095</td>\n",
              "      <td>10835.00</td>\n",
              "      <td>0.00</td>\n",
              "      <td>C932583850</td>\n",
              "      <td>6267.00</td>\n",
              "      <td>2719172.89</td>\n",
              "      <td>0</td>\n",
              "    </tr>\n",
              "    <tr>\n",
              "      <th>2</th>\n",
              "      <td>1</td>\n",
              "      <td>PAYMENT</td>\n",
              "      <td>7413.54</td>\n",
              "      <td>C1470868839</td>\n",
              "      <td>297689.58</td>\n",
              "      <td>290276.03</td>\n",
              "      <td>M1426725223</td>\n",
              "      <td>0.00</td>\n",
              "      <td>0.00</td>\n",
              "      <td>0</td>\n",
              "    </tr>\n",
              "    <tr>\n",
              "      <th>3</th>\n",
              "      <td>1</td>\n",
              "      <td>PAYMENT</td>\n",
              "      <td>6660.33</td>\n",
              "      <td>C893523498</td>\n",
              "      <td>17710.00</td>\n",
              "      <td>11049.67</td>\n",
              "      <td>M1770070706</td>\n",
              "      <td>0.00</td>\n",
              "      <td>0.00</td>\n",
              "      <td>0</td>\n",
              "    </tr>\n",
              "    <tr>\n",
              "      <th>4</th>\n",
              "      <td>1</td>\n",
              "      <td>TRANSFER</td>\n",
              "      <td>26923.42</td>\n",
              "      <td>C1108517064</td>\n",
              "      <td>11049.67</td>\n",
              "      <td>0.00</td>\n",
              "      <td>C1983747920</td>\n",
              "      <td>199404.91</td>\n",
              "      <td>95508.95</td>\n",
              "      <td>0</td>\n",
              "    </tr>\n",
              "    <tr>\n",
              "      <th>...</th>\n",
              "      <td>...</td>\n",
              "      <td>...</td>\n",
              "      <td>...</td>\n",
              "      <td>...</td>\n",
              "      <td>...</td>\n",
              "      <td>...</td>\n",
              "      <td>...</td>\n",
              "      <td>...</td>\n",
              "      <td>...</td>\n",
              "      <td>...</td>\n",
              "    </tr>\n",
              "    <tr>\n",
              "      <th>94</th>\n",
              "      <td>7</td>\n",
              "      <td>CASH_IN</td>\n",
              "      <td>287937.99</td>\n",
              "      <td>C1716876539</td>\n",
              "      <td>1270520.43</td>\n",
              "      <td>1558458.42</td>\n",
              "      <td>C1423992712</td>\n",
              "      <td>9977117.37</td>\n",
              "      <td>9689179.38</td>\n",
              "      <td>0</td>\n",
              "    </tr>\n",
              "    <tr>\n",
              "      <th>95</th>\n",
              "      <td>7</td>\n",
              "      <td>CASH_IN</td>\n",
              "      <td>37360.00</td>\n",
              "      <td>C1052245880</td>\n",
              "      <td>1558458.42</td>\n",
              "      <td>1595818.41</td>\n",
              "      <td>C790722099</td>\n",
              "      <td>88544.15</td>\n",
              "      <td>51184.15</td>\n",
              "      <td>0</td>\n",
              "    </tr>\n",
              "    <tr>\n",
              "      <th>96</th>\n",
              "      <td>7</td>\n",
              "      <td>CASH_OUT</td>\n",
              "      <td>269206.30</td>\n",
              "      <td>C1526476924</td>\n",
              "      <td>0.00</td>\n",
              "      <td>0.00</td>\n",
              "      <td>C1065997164</td>\n",
              "      <td>974210.20</td>\n",
              "      <td>2826797.81</td>\n",
              "      <td>0</td>\n",
              "    </tr>\n",
              "    <tr>\n",
              "      <th>97</th>\n",
              "      <td>7</td>\n",
              "      <td>CASH_OUT</td>\n",
              "      <td>164.00</td>\n",
              "      <td>C1173659886</td>\n",
              "      <td>164.00</td>\n",
              "      <td>0.00</td>\n",
              "      <td>C1769947269</td>\n",
              "      <td>4068.00</td>\n",
              "      <td>0.00</td>\n",
              "      <td>1</td>\n",
              "    </tr>\n",
              "    <tr>\n",
              "      <th>98</th>\n",
              "      <td>7</td>\n",
              "      <td>TRANSFER</td>\n",
              "      <td>164.00</td>\n",
              "      <td>C1455969984</td>\n",
              "      <td>164.00</td>\n",
              "      <td>0.00</td>\n",
              "      <td>C2119910556</td>\n",
              "      <td>0.00</td>\n",
              "      <td>0.00</td>\n",
              "      <td>1</td>\n",
              "    </tr>\n",
              "  </tbody>\n",
              "</table>\n",
              "<p>99 rows × 10 columns</p>\n",
              "</div>"
            ],
            "text/plain": [
              "    step      type     amount  ... oldbalanceDest  newbalanceDest  y_prednew\n",
              "0      1  CASH_OUT  229133.94  ...        5083.00        51513.44          0\n",
              "1      1  TRANSFER  311685.89  ...        6267.00      2719172.89          0\n",
              "2      1   PAYMENT    7413.54  ...           0.00            0.00          0\n",
              "3      1   PAYMENT    6660.33  ...           0.00            0.00          0\n",
              "4      1  TRANSFER   26923.42  ...      199404.91        95508.95          0\n",
              "..   ...       ...        ...  ...            ...             ...        ...\n",
              "94     7   CASH_IN  287937.99  ...     9977117.37      9689179.38          0\n",
              "95     7   CASH_IN   37360.00  ...       88544.15        51184.15          0\n",
              "96     7  CASH_OUT  269206.30  ...      974210.20      2826797.81          0\n",
              "97     7  CASH_OUT     164.00  ...        4068.00            0.00          1\n",
              "98     7  TRANSFER     164.00  ...           0.00            0.00          1\n",
              "\n",
              "[99 rows x 10 columns]"
            ]
          },
          "execution_count": 11,
          "metadata": {
            "tags": []
          },
          "output_type": "execute_result"
        }
      ],
      "source": [
        "dataFrame.to_csv('final_result.csv')\n",
        "dataFrame"
      ]
    }
  ],
  "metadata": {
    "colab": {
      "name": "Untitled13.ipynb",
      "provenance": [],
      "toc_visible": true
    },
    "kernelspec": {
      "display_name": ".venv",
      "language": "python",
      "name": "python3"
    },
    "language_info": {
      "codemirror_mode": {
        "name": "ipython",
        "version": 3
      },
      "file_extension": ".py",
      "mimetype": "text/x-python",
      "name": "python",
      "nbconvert_exporter": "python",
      "pygments_lexer": "ipython3",
      "version": "3.10.16"
    }
  },
  "nbformat": 4,
  "nbformat_minor": 0
}
